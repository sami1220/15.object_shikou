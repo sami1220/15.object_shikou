{
 "cells": [
  {
   "cell_type": "markdown",
   "id": "447aa6f7-e29b-403f-8859-b2bdc2332a22",
   "metadata": {},
   "source": [
    "# オブジェクト指向の活用\n",
    "\n",
    "これまでの課題では触れてきませんでしたが、StandardScalerやLinearRegressionのような \n",
    "\n",
    "**クラス** と呼ばれるものがPythonなどのプログラム言語では利用できます。\n",
    "\n",
    "\n",
    "クラスの構文は、オブジェクト指向と呼ばれる考え方を利用したプログラミングの基本的な道具になります。\n",
    "\n",
    "\n",
    "この課題ではこれまでに既に登場していたクラスを例に、クラスを活用することでどのようなことができるのかを見て学んでいきます。\n",
    "\n",
    "そして課題の後半では**StandardScalerのクラスをスクラッチで自作します。**\n",
    "\n",
    "\n",
    "### scikit-learnの標準化クラス\n",
    "\n",
    "scikit-learnに用意されている標準化を行うためのクラスStandardScalerを例に見ていきます。\n",
    "\n",
    "サンプルコードを用意しましたので、これを利用しながら理解していきます。\n",
    "\n",
    "\n",
    "sklearn.preprocessing.StandardScaler — scikit-learn 0.21.3 documentation\n",
    "\n",
    "\n",
    "### 《サンプルコード》\n",
    "\n"
   ]
  },
  {
   "cell_type": "code",
   "execution_count": 91,
   "id": "3f8da725-b77b-4332-8fc8-34a1c7c30f31",
   "metadata": {},
   "outputs": [
    {
     "name": "stdout",
     "output_type": "stream",
     "text": [
      "平均 : [4.86 3.31 1.45 0.22]\n",
      "分散 : [0.0764 0.0849 0.0105 0.0056]\n"
     ]
    }
   ],
   "source": [
    "# サンプルコード\n",
    "import numpy as np\n",
    "from sklearn.preprocessing import StandardScaler\n",
    "from sklearn.datasets import load_iris\n",
    "\n",
    "data = load_iris()\n",
    "X = data.data[:10]\n",
    "scaler = StandardScaler()\n",
    "scaler.fit(X)\n",
    "print(\"平均 :\", scaler.mean_)\n",
    "print(\"分散 :\", scaler.var_)\n",
    "X_std = scaler.transform(X)"
   ]
  },
  {
   "cell_type": "markdown",
   "id": "48d06e31-916d-404c-9f8d-884051683850",
   "metadata": {},
   "source": [
    "#### **インスタンス化**\n",
    "\n",
    "\n",
    "クラスを使う際はまず以下のようなコードを書きますが、これを インスタンス化 と呼びます。\n",
    "\n",
    "\n",
    "**scaler = StandardScaler()** \n",
    "\n",
    "\n",
    "StandardScalerというクラスオブジェクトから、scalerと名前をつけたインスタンスオブジェクトが作られました。\n",
    "\n",
    "\n",
    "\n",
    "**《クラスの命名法》**\n",
    "\n",
    "\n",
    "#### Pythonではクラス名は頭文字が大文字、他は小文字という命名法がPEP8により定められています。\n",
    "\n",
    "\n",
    "**単語間にアンダースコアは入れません。**これを CapWords 方式と呼びます。\n",
    "\n",
    "\n",
    "※はじめに — pep8-ja 1.0 ドキュメント クラスの名前\n",
    "\n",
    "\n",
    "こういった形式のものはクラスだと判断することができます。\n",
    "\n",
    "\n",
    "**《インスタンスは複数作れる》**\n",
    "\n",
    "\n",
    "あるクラスオブジェクトからは複数のインスタンスオブジェクトを作成することが可能です。\n",
    "\n"
   ]
  },
  {
   "cell_type": "code",
   "execution_count": 92,
   "id": "45e1aec3-eff6-47a1-ba58-7d7b4b36c036",
   "metadata": {},
   "outputs": [],
   "source": [
    "# サンプルコード\n",
    "scaler0 = StandardScaler()\n",
    "scaler1 = StandardScaler()\n",
    "scaler2 = StandardScaler()"
   ]
  },
  {
   "cell_type": "markdown",
   "id": "c6847d5a-dc0d-420a-addd-1d066691a7fb",
   "metadata": {},
   "source": [
    "## 【問題1】これまで利用してきたクラスの列挙\n",
    "\n",
    "\n",
    "クラスを使う際はインスタンス化を行うことと、クラスの命名法がわかりました。\n",
    "\n",
    "この情報を元に、これまでの課題で利用してきたコードの中でどのようなクラスがあったかを答えてください。\n",
    "\n",
    "\n",
    "Pandas、matplotlib、scikit-learnからそれぞれ1つ以上見つけてください。"
   ]
  },
  {
   "cell_type": "code",
   "execution_count": 93,
   "id": "e28d365e-9193-4260-9f37-58ba1a478174",
   "metadata": {},
   "outputs": [
    {
     "name": "stdout",
     "output_type": "stream",
     "text": [
      "1. Pandasで利用したクラス\n",
      "DataFrameクラスでdf(データフレーム型)を定義\n",
      "---------------------------\n",
      "2. matplotlibで利用したクラス\n",
      "Figureでグラフのフレームを定義\n",
      "---------------------------\n",
      "3. scikit-learnで利用したクラス\n",
      "LinearRegression()のクラスで線形回帰のインスタンスを定義\n",
      "DecisionTreeRegressor()のクラスで決定木のインスタンスを定義\n",
      "RandomForestRegressor()のクラスでランダムフォレストのインスタンスを定義\n"
     ]
    }
   ],
   "source": [
    "# Pandas、matplotlib、scikit-learnそれぞれで利用したクラスを表示\n",
    "# 回答\n",
    "print('1. Pandasで利用したクラス')\n",
    "print('DataFrameクラスでdf(データフレーム型)を定義')\n",
    "\n",
    "print('---------------------------')\n",
    "print('2. matplotlibで利用したクラス')\n",
    "print('Figureでグラフのフレームを定義')\n",
    "\n",
    "print('---------------------------')\n",
    "print('3. scikit-learnで利用したクラス')\n",
    "\n",
    "print('LinearRegression()のクラスで線形回帰のインスタンスを定義')\n",
    "print('DecisionTreeRegressor()のクラスで決定木のインスタンスを定義')\n",
    "print('RandomForestRegressor()のクラスでランダムフォレストのインスタンスを定義')"
   ]
  },
  {
   "cell_type": "markdown",
   "id": "c027baf9-e3ed-46ae-8bb5-28fd9ce769c2",
   "metadata": {},
   "source": [
    "## 【問題2】これまで利用してきたメソッドやインスタンス変数の列挙\n",
    "\n",
    "\n",
    "これまでの課題で利用してきたコードの中でどのようなメソッドやインスタンス変数があったかを答えてください。\n",
    "\n",
    "\n",
    "**最低でもそれぞれ5つ以上答えてください。**\n",
    "\n",
    "\n",
    "**《ndarrayやstrもインスタンス》**\n",
    "\n",
    "\n",
    "ドットをつけるというと、NumPyのndarrayに対してndarray.shapeやndarray.sum()のような使い方は何度も利用してきたかと思います。\n",
    "\n",
    "これは、ndarrayもインスタンスオブジェクトであり、<span style=\"font-size:20px\">**.shapeはインスタンス変数、sum()はメソッド**</span>だったということです。\n",
    "\n",
    "\n",
    "Pythonのコードに登場するデータはどれもインスタンスオブジェクトであり、listやstrもメソッドを持ちます。\n",
    "\n",
    "\n",
    "（例）"
   ]
  },
  {
   "cell_type": "code",
   "execution_count": 94,
   "id": "a6863fea-ac3b-495d-8f8d-836ccd303d1d",
   "metadata": {},
   "outputs": [
    {
     "name": "stdout",
     "output_type": "stream",
     "text": [
      "5. データ構造 — Python 3.7.4 ドキュメント 5.1. リスト型についてもう少し\n",
      "-------------------------------------------------------\n",
      "4. 組み込み型 — Python 3.7.4 ドキュメント 文字列メソッド\n"
     ]
    },
    {
     "data": {
      "text/plain": [
       "7"
      ]
     },
     "execution_count": 94,
     "metadata": {},
     "output_type": "execute_result"
    }
   ],
   "source": [
    "print('5. データ構造 — Python 3.7.4 ドキュメント 5.1. リスト型についてもう少し')\n",
    "l = ['a']\n",
    "l.append('b') # listのappendメソッド\n",
    "print('-------------------------------------------------------')\n",
    "print('4. 組み込み型 — Python 3.7.4 ドキュメント 文字列メソッド')\n",
    "s = 'Hello, World!'\n",
    "s.find('W') # strのfindメソッド\n"
   ]
  },
  {
   "cell_type": "markdown",
   "id": "7c21b211-e4fc-42df-8b7e-ee3ac33a012c",
   "metadata": {},
   "source": [
    "#### **インスタンス変数をメソッドが利用**\n",
    "\n",
    "最終的に以下のようにして標準化を行います。\n",
    "\n",
    "\n",
    "**X_std = scaler.transform(X)**\n",
    "\n",
    "\n",
    "これはfitメソッドで計算したことでインスタンス変数mean_やvar_に保存されていた値を使い、Xを変換したということです。\n",
    "\n",
    "\n",
    "このようにクラスには複数のメソッドやインスタンス変数が存在し、これらを組み合わせていろいろな機能を実現します。\n",
    "\n"
   ]
  },
  {
   "cell_type": "code",
   "execution_count": 95,
   "id": "554c5261-27fc-4f96-87a0-6423aef3c1a4",
   "metadata": {},
   "outputs": [
    {
     "name": "stdout",
     "output_type": "stream",
     "text": [
      "● これまで利用したメソッド\n",
      "1. Pandas --- df.discrib() === 平均、標準偏差、四分位を一度に表示\n",
      "2. Pandas --- df.sort_values() === dfの列を並び替える\n",
      "3. NumPy --- np.random.seed(0) === 乱数の作成時に数値がバラつかないようにする\n",
      "4. NumPy --- np.random.multivariate_normal(平均値, 共分散行列, 個数) === 乱数を作成\n",
      "5. matplotlib --- plt.hist() === ヒストグラムを作成\n",
      "--------------------------------------\n",
      "● これまで利用したインスタンス変数\n",
      "1. Pandas --- DataFrame.values === DataFrameをNumPuのndarrayに変換\n",
      "2. Pandas --- DataFrame.loc === DataFrameのカラム、インデックスの名前を指定して抽出\n",
      "3. Pandas --- DataFrame.iloc === DataFrameのカラム、インデックスの番号を指定して抽出\n",
      "4. NumPy --- ndarray.T === 二次元配列の転置行列を取得する\n",
      "5. NumPy --- ndarray.dtype === 要素の型を確認（int64,float64など\n"
     ]
    }
   ],
   "source": [
    "# これまでの課題で利用してきたメソッドやインスタンス変数について記載する。\n",
    "# 最低でもそれぞれ5つ\n",
    "\n",
    "# 回答\n",
    "# メソッド\n",
    "print('● これまで利用したメソッド')\n",
    "print('1. Pandas --- df.discrib() === 平均、標準偏差、四分位を一度に表示')\n",
    "print('2. Pandas --- df.sort_values() === dfの列を並び替える')\n",
    "print('3. NumPy --- np.random.seed(0) === 乱数の作成時に数値がバラつかないようにする')\n",
    "print('4. NumPy --- np.random.multivariate_normal(平均値, 共分散行列, 個数) === 乱数を作成')\n",
    "print('5. matplotlib --- plt.hist() === ヒストグラムを作成')\n",
    "\n",
    "\n",
    "\n",
    "print('--------------------------------------')\n",
    "# インスタンス変数\n",
    "print('● これまで利用したインスタンス変数')\n",
    "print('1. Pandas --- DataFrame.values === DataFrameをNumPuのndarrayに変換')\n",
    "print('2. Pandas --- DataFrame.loc === DataFrameのカラム、インデックスの名前を指定して抽出')\n",
    "print('3. Pandas --- DataFrame.iloc === DataFrameのカラム、インデックスの番号を指定して抽出')\n",
    "print('4. NumPy --- ndarray.T === 二次元配列の転置行列を取得する')\n",
    "print('5. NumPy --- ndarray.dtype === 要素の型を確認（int64,float64など')\n"
   ]
  },
  {
   "cell_type": "markdown",
   "id": "b5ce9ab0-a953-4bdc-9b4c-4c2d67da4aef",
   "metadata": {},
   "source": [
    "## 【問題3】標準化クラスをスクラッチで作成\n",
    "\n",
    "理解をより深めるため、StandardScalerをスクラッチで作成しましょう。\n",
    "\n",
    "scikit-learnは使わず、NumPyなどを活用して標準化の計算を記述します。\n",
    "\n",
    "具体的にはfitメソッドとtransformメソッドを作ります。\n",
    "\n",
    "\n",
    "今回は雛形を用意しました。クラスの作成方法は関数に近いです。\n",
    "\n",
    "メソッドはクラスの中にさらにインデントを一段下げて記述します。\n",
    "\n",
    "\n",
    "インスタンス変数を作成する際はself.mean_のようにselfを付けます。\n",
    "\n",
    "クラスの外からscaler.mean_と書いていたscalerの部分が自分自身を表すselfになっています。\n",
    "\n",
    "\n",
    "**《雛形》**\n",
    "\n"
   ]
  },
  {
   "cell_type": "code",
   "execution_count": 96,
   "id": "6cf92460-12c0-4746-8a8e-24db973c630a",
   "metadata": {},
   "outputs": [
    {
     "name": "stdout",
     "output_type": "stream",
     "text": [
      "スクラッチで作ったクラスで求めた平均は[4.86 3.31 1.45 0.22]です\n",
      "~~~~~~~~~~~~~~~~~~~~~~~~~~~~~~~~~~~~~~~~~~~~~~~~~~~~~~~~~~~~~~~~~~~~~~\n",
      "スクラッチで作ったクラスで求めた分散は[[5.760e-03 3.610e-03 2.500e-04 4.000e-05]\n",
      " [1.600e-04 9.610e-03 2.500e-04 4.000e-05]\n",
      " [2.560e-03 1.210e-03 2.250e-03 4.000e-05]\n",
      " [6.760e-03 4.410e-03 2.500e-04 4.000e-05]\n",
      " [1.960e-03 8.410e-03 2.500e-04 4.000e-05]\n",
      " [2.916e-02 3.481e-02 6.250e-03 3.240e-03]\n",
      " [6.760e-03 8.100e-04 2.500e-04 6.400e-04]\n",
      " [1.960e-03 8.100e-04 2.500e-04 4.000e-05]\n",
      " [2.116e-02 1.681e-02 2.500e-04 4.000e-05]\n",
      " [1.600e-04 4.410e-03 2.500e-04 1.440e-03]]です\n",
      "~~~~~~~~~~~~~~~~~~~~~~~~~~~~~~~~~~~~~~~~~~~~~~~~~~~~~~~~~~~~~~~~~~~~~~\n",
      "スクラッチで作ったクラスで求めた標準化の数値は[[ 3.16227766  3.16227766 -3.16227766 -3.16227766]\n",
      " [ 3.16227766 -3.16227766 -3.16227766 -3.16227766]\n",
      " [-3.16227766 -3.16227766 -3.16227766 -3.16227766]\n",
      " [-3.16227766 -3.16227766  3.16227766 -3.16227766]\n",
      " [ 3.16227766  3.16227766 -3.16227766 -3.16227766]\n",
      " [ 3.16227766  3.16227766  3.16227766  3.16227766]\n",
      " [-3.16227766  3.16227766 -3.16227766  3.16227766]\n",
      " [ 3.16227766  3.16227766  3.16227766 -3.16227766]\n",
      " [-3.16227766 -3.16227766 -3.16227766 -3.16227766]\n",
      " [ 3.16227766 -3.16227766  3.16227766 -3.16227766]]です\n"
     ]
    }
   ],
   "source": [
    "# 《雛形》このクラスを成形する\n",
    "\n",
    "# 解答\n",
    "\n",
    "class ScratchStandardScaler():\n",
    "    \"\"\"\n",
    "    標準化のためのクラス\n",
    "    Attributes\n",
    "    ----------\n",
    "    mean_ : 次の形のndarray, shape(n_features,)\n",
    "        平均\n",
    "    var_ : 次の形のndarray, shape(n_features,)\n",
    "        分散\n",
    "    \"\"\"\n",
    "    def fit(self, X):\n",
    "        \"\"\"\n",
    "        標準化のために平均と標準偏差を計算する。\n",
    "        Parameters\n",
    "        ----------\n",
    "        X : 次の形のndarray, shape (n_samples, n_features)\n",
    "            訓練データ\n",
    "        \"\"\"\n",
    "#         X = np.array(X)\n",
    "        # 平均を求める。X配列の合計値をX配列の合計数で割る\n",
    "        self.mean_ = sum(X) / len(X)\n",
    "        # 分散を求める。平均を求める→Xの数値から平均を引く→その数値を２乗する→合計数で割る\n",
    "        self.var_ = (X - (sum(X) / len(X))) ** 2 / len(X)\n",
    "\n",
    "    def transform(self, X):\n",
    "        \"\"\"\n",
    "        fitで求めた値を使い標準化を行う。\n",
    "        Parameters\n",
    "        ----------\n",
    "        X : 次の形のndarray, shape (n_samples, n_features)\n",
    "            特徴量\n",
    "        Returns\n",
    "        ----------\n",
    "        answer : 次の形のndarray, shape (n_samples, n_features)\n",
    "            標準化された特緒量\n",
    "        \"\"\"\n",
    "        # 分散 = X - 平均→その数値を２乗→合計数で割る\n",
    "        X_var_ = (X - (sum(X) / len(X))) ** 2 / len(X) #分散\n",
    "        X_scaled = np.sqrt(X_var_) #標準偏差(np.sqrtで求める)\n",
    "        answer = (X - (sum(X) / len(X))) / X_scaled #標準化 = （X - 平均) / 標準偏差\n",
    "\n",
    "        return answer\n",
    "\n",
    "from sklearn.datasets import load_iris\n",
    "data = load_iris()\n",
    "X = data.data[:10]\n",
    "my_scratch_scaler = ScratchStandardScaler()\n",
    "my_scratch_scaler.fit(X)\n",
    "print(f'スクラッチで作ったクラスで求めた平均は{my_scratch_scaler.mean_}です')\n",
    "print('~~~~~~~~~~~~~~~~~~~~~~~~~~~~~~~~~~~~~~~~~~~~~~~~~~~~~~~~~~~~~~~~~~~~~~')\n",
    "print(f'スクラッチで作ったクラスで求めた分散は{my_scratch_scaler.var_}です')\n",
    "print('~~~~~~~~~~~~~~~~~~~~~~~~~~~~~~~~~~~~~~~~~~~~~~~~~~~~~~~~~~~~~~~~~~~~~~')\n",
    "\n",
    "\n",
    "my_scratch_scaler.transform(X)\n",
    "print(f'スクラッチで作ったクラスで求めた標準化の数値は{my_scratch_scaler.transform(X)}です')\n",
    "\n",
    "\n"
   ]
  },
  {
   "cell_type": "code",
   "execution_count": 97,
   "id": "6e7240c7-ae7c-41dc-bf87-14e1eb5ef682",
   "metadata": {},
   "outputs": [
    {
     "name": "stdout",
     "output_type": "stream",
     "text": [
      "---------------------------------------\n",
      "以下はサンプルの実行値\n",
      "平均 : [4.86 3.31 1.45 0.22]\n",
      "分散 : [[5.760e-03 3.610e-03 2.500e-04 4.000e-05]\n",
      " [1.600e-04 9.610e-03 2.500e-04 4.000e-05]\n",
      " [2.560e-03 1.210e-03 2.250e-03 4.000e-05]\n",
      " [6.760e-03 4.410e-03 2.500e-04 4.000e-05]\n",
      " [1.960e-03 8.410e-03 2.500e-04 4.000e-05]\n",
      " [2.916e-02 3.481e-02 6.250e-03 3.240e-03]\n",
      " [6.760e-03 8.100e-04 2.500e-04 6.400e-04]\n",
      " [1.960e-03 8.100e-04 2.500e-04 4.000e-05]\n",
      " [2.116e-02 1.681e-02 2.500e-04 4.000e-05]\n",
      " [1.600e-04 4.410e-03 2.500e-04 1.440e-03]]\n",
      "[[ 3.16227766  3.16227766 -3.16227766 -3.16227766]\n",
      " [ 3.16227766 -3.16227766 -3.16227766 -3.16227766]\n",
      " [-3.16227766 -3.16227766 -3.16227766 -3.16227766]\n",
      " [-3.16227766 -3.16227766  3.16227766 -3.16227766]\n",
      " [ 3.16227766  3.16227766 -3.16227766 -3.16227766]\n",
      " [ 3.16227766  3.16227766  3.16227766  3.16227766]\n",
      " [-3.16227766  3.16227766 -3.16227766  3.16227766]\n",
      " [ 3.16227766  3.16227766  3.16227766 -3.16227766]\n",
      " [-3.16227766 -3.16227766 -3.16227766 -3.16227766]\n",
      " [ 3.16227766 -3.16227766  3.16227766 -3.16227766]]\n"
     ]
    }
   ],
   "source": [
    "# ★実行結果★\n",
    "import numpy as np\n",
    "from sklearn.datasets import load_iris\n",
    "data = load_iris()\n",
    "X = data.data[:10]\n",
    "scratch_scaler = ScratchStandardScaler()\n",
    "scratch_scaler.fit(X)\n",
    "\n",
    "print('---------------------------------------')\n",
    "print('以下はサンプルの実行値')\n",
    "print(\"平均 : {}\".format(scratch_scaler.mean_))\n",
    "print(\"分散 : {}\".format(scratch_scaler.var_))\n",
    "X_std = scratch_scaler.transform(X)\n",
    "print(X_std)"
   ]
  },
  {
   "attachments": {
    "cc4948e3-89a6-47b8-875b-f1bc48b51c9e.png": {
     "image/png": "[encoded data removed]"
    }
   },
   "cell_type": "markdown",
   "id": "6d39c9e7-25c9-41cc-8456-957962edca18",
   "metadata": {},
   "source": [
    "ライブラリのソースコードを確認\n",
    "scikit-learnの場合は公式ドキュメントの右上にソースコードへのリンクがあります。\n",
    "\n",
    "\n",
    "![image.png](attachment:cc4948e3-89a6-47b8-875b-f1bc48b51c9e.png)\n",
    "\n",
    "\n",
    "[source]\n",
    "\n",
    "\n",
    "どのようなコードになっていたかを確認してみましょう。\n",
    "\n",
    "（問題3に取り組んだ後に見ることを推奨します）スクラッチで作成したものよりも全体的にコードが長いのではないかと思います。\n",
    "\n",
    "inverse_transformメソッドのように作成しなかったものもありますが、それだけではありません。\n",
    "\n",
    "例えば以下のように、warning文が記述されているなどします。\n",
    "\n",
    "どのようなコードになっていたかを確認してみましょう。\n",
    "\n",
    "（問題3に取り組んだ後に見ることを推奨します）スクラッチで作成したものよりも全体的にコードが長いのではないかと思います。\n",
    "\n",
    "inverse_transformメソッドのように作成しなかったものもありますが、\n",
    "\n",
    "それだけではありません。例えば以下のように、warning文が記述されているなどします。"
   ]
  },
  {
   "cell_type": "code",
   "execution_count": 98,
   "id": "88128668-edeb-4aaf-837d-c0bba251386d",
   "metadata": {},
   "outputs": [],
   "source": [
    "# 問題文のサンプル\n",
    "# if not isinstance(y, string_types) or y != 'deprecated':\n",
    "#     warnings.warn(\"The parameter y on transform() is \"\n",
    "#                   \"deprecated since 0.19 and will be removed in 0.21\",\n",
    "#                   DeprecationWarning)"
   ]
  },
  {
   "cell_type": "markdown",
   "id": "a38002eb-4933-4003-86f1-8009c4b3c508",
   "metadata": {},
   "source": [
    "しかし、特に今注目したいのは次の特殊メソッドについてです。\n",
    "\n",
    "\n",
    "**特殊メソッド**\n",
    "\n",
    "ソースコードの中に含まれる、まだ説明していない重要な部分が以下です。\n",
    "\n",
    "\n",
    "\n",
    "このような__init__というメソッドは、どのクラスにも共通して置かれる **コンストラクタ** と呼ばれるメソッドです。"
   ]
  },
  {
   "cell_type": "code",
   "execution_count": 90,
   "id": "8a2e61a9-87f4-4a71-8e5a-a69a8538feea",
   "metadata": {},
   "outputs": [],
   "source": [
    "def __init__(self, copy=True, with_mean=True, with_std=True):\n",
    "    self.with_mean = with_mean\n",
    "    self.with_std = with_std\n",
    "    self.copy = copy"
   ]
  },
  {
   "cell_type": "markdown",
   "id": "39d63475-4081-46e0-91dc-3918a36e240a",
   "metadata": {},
   "source": [
    "今回のスクラッチではcopy、with_mean、with_stdなどのパラメータを省略しましたが、\n",
    "\n",
    "このようにインスタンス化の際にパラメータを指定して保存しておくということはよくある使い方です。\n",
    "\n",
    "\n",
    "コンストラクタの動作を確認するためのサンプルコードを用意しました。コンストラクタは、\n",
    "\n",
    "インスタンス化が行われる時に自動的に実行されるという働きがあります。\n",
    "\n",
    "こういった特殊な動作をするメソッドを、 特殊メソッド と呼びます。"
   ]
  },
  {
   "cell_type": "code",
   "execution_count": 12,
   "id": "ff211c5b-7fcd-4c31-85c9-c6aae20e5935",
   "metadata": {},
   "outputs": [
    {
     "name": "stdout",
     "output_type": "stream",
     "text": [
      "初期値5が設定されました\n",
      "value : 5\n",
      "value : 8\n"
     ]
    }
   ],
   "source": [
    "# サンプルコード\n",
    "\n",
    "class ExampleClass():\n",
    "    \"\"\"\n",
    "    説明用の簡単なクラス\n",
    "    Parameters\n",
    "    ----------\n",
    "    value : float or int\n",
    "        初期値\n",
    "    Attributes\n",
    "    ----------\n",
    "    value : float or int\n",
    "        計算結果\n",
    "    \"\"\"\n",
    "    def __init__(self, value):\n",
    "        self.value = value\n",
    "        print(\"初期値{}が設定されました\".format(self.value))\n",
    "    def add(self, value2):\n",
    "        \"\"\"\n",
    "        受け取った引数をself.valueに加える\n",
    "        \"\"\"\n",
    "        self.value += value2\n",
    "example = ExampleClass(5)\n",
    "print(\"value : {}\".format(example.value))\n",
    "example.add(3)\n",
    "print(\"value : {}\".format(example.value))"
   ]
  },
  {
   "cell_type": "markdown",
   "id": "40a53bc9-a9e1-40ae-9f49-6cbeb8ce2726",
   "metadata": {},
   "source": [
    "## 【問題4】 四則演算を行うクラスの作成\n",
    "\n",
    "上記ExampleClassは足し算のメソッドを持っていますが、これに**引き算、掛け算、割り算のメソッドを加えてください。**\n",
    "\n",
    "\n",
    "コンストラクタに入力されたvalueが文字列や配列など数値以外だった場合にはエラーを出すようにしてください。\n",
    "\n",
    "\n",
    "クラス名や説明文も適切に書き換えてください。"
   ]
  },
  {
   "cell_type": "code",
   "execution_count": 70,
   "id": "a41bc79c-d713-4ac6-bcbe-db33ef3f9d55",
   "metadata": {},
   "outputs": [
    {
     "name": "stdout",
     "output_type": "stream",
     "text": [
      "初期値5が設定されました\n",
      "value : 5\n",
      "●----------------------------●\n",
      "足し算：value : 8\n",
      "●----------------------------●\n",
      "引き算：value : 5\n",
      "●----------------------------●\n",
      "掛け算：value : 15\n",
      "●----------------------------●\n",
      "割り算：value : 5.0\n"
     ]
    }
   ],
   "source": [
    "class ExampleClass():\n",
    "    \"\"\"\n",
    "    説明用の簡単なクラス\n",
    "    Parameters\n",
    "    ----------\n",
    "    value : float or int\n",
    "        初期値\n",
    "    Attributes\n",
    "    ----------\n",
    "    value : float or int\n",
    "        計算結果\n",
    "    \"\"\"\n",
    "    def __init__(self, value):\n",
    "        self.value = value\n",
    "        print(\"初期値{}が設定されました\".format(self.value))\n",
    "    def add(self, value2):\n",
    "        \"\"\"\n",
    "        受け取った引数をself.valueに加える\n",
    "        \"\"\"\n",
    "        self.value += value2\n",
    "        \n",
    "    def minus(self, value3):\n",
    "        \"\"\"\n",
    "        受け取った引数をself.valueから引く\n",
    "        \"\"\"\n",
    "        self.value -= value3\n",
    "    \n",
    "    def mult(self, value4):\n",
    "        \"\"\"\n",
    "        受け取った引数をself.valueと掛ける\n",
    "        \"\"\"\n",
    "        self.value *= value4\n",
    "    def divide(self, value5):\n",
    "        \"\"\"\n",
    "        受け取った引数でself.valueをわる\n",
    "        \"\"\"\n",
    "        self.value /= value5\n",
    "\n",
    "# 解答\n",
    "example = ExampleClass(5)\n",
    "print(\"value : {}\".format(example.value))\n",
    "print('●----------------------------●')\n",
    "example.add(3)\n",
    "print(\"足し算：value : {}\".format(example.value))\n",
    "print('●----------------------------●')\n",
    "example.minus(3)\n",
    "print(\"引き算：value : {}\".format(example.value))\n",
    "print('●----------------------------●')\n",
    "example.mult(3)\n",
    "print(\"掛け算：value : {}\".format(example.value))\n",
    "print('●----------------------------●')\n",
    "example.divide(3)\n",
    "print(\"割り算：value : {}\".format(example.value))\n",
    "\n",
    "# （注）xの値が更新されているため、直前のxの値で計算されている"
   ]
  }
 ],
 "metadata": {
  "kernelspec": {
   "display_name": "Python 3",
   "language": "python",
   "name": "python3"
  },
  "language_info": {
   "codemirror_mode": {
    "name": "ipython",
    "version": 3
   },
   "file_extension": ".py",
   "mimetype": "text/x-python",
   "name": "python",
   "nbconvert_exporter": "python",
   "pygments_lexer": "ipython3",
   "version": "3.8.8"
  }
 },
 "nbformat": 4,
 "nbformat_minor": 5
}
